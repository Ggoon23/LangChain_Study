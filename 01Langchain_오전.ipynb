{
 "cells": [
  {
   "cell_type": "markdown",
   "id": "a7e06570",
   "metadata": {},
   "source": [
    "# langchain 환경 설치\n",
    "\n",
    "- langchain, langchain-community, langchain-openai\n",
    "- python-doten"
   ]
  },
  {
   "cell_type": "code",
   "execution_count": 2,
   "id": "6a6de612",
   "metadata": {},
   "outputs": [],
   "source": [
    "# %pip install langchain langchain-community langchain-openai"
   ]
  },
  {
   "cell_type": "code",
   "execution_count": 4,
   "id": "99bddc6e",
   "metadata": {},
   "outputs": [],
   "source": [
    "# %pip install python-dotenv"
   ]
  },
  {
   "cell_type": "markdown",
   "id": "88113d91",
   "metadata": {},
   "source": [
    "# OpenAI 개발자 API \n",
    "\n",
    "개발자 등록하고 API key 발급\n",
    "\n",
    "- https://platform.openai.com/account/api-keys"
   ]
  },
  {
   "cell_type": "code",
   "execution_count": 6,
   "id": "73e6f56b",
   "metadata": {},
   "outputs": [
    {
     "name": "stdout",
     "output_type": "stream",
     "text": [
      "API key loaded successfully!\n"
     ]
    }
   ],
   "source": [
    "from dotenv import load_dotenv\n",
    "load_dotenv()  # .env 파일의 내용 환경 변수로 로드\n",
    "\n",
    "import os\n",
    "if os.getenv(\"OPENAI_API_KEY\"):\n",
    "    print(\"API key loaded successfully!\")"
   ]
  },
  {
   "cell_type": "code",
   "execution_count": 7,
   "id": "0846f0d8",
   "metadata": {},
   "outputs": [
    {
     "data": {
      "text/plain": [
       "'sk-proj-VEPxFhPRazYN'"
      ]
     },
     "execution_count": 7,
     "metadata": {},
     "output_type": "execute_result"
    }
   ],
   "source": [
    "os.getenv(\"OPENAI_API_KEY\")[:20]"
   ]
  },
  {
   "cell_type": "markdown",
   "id": "bf4cd2d3",
   "metadata": {},
   "source": [
    "# OpenAI module 사용\n",
    "\n",
    "--> openai"
   ]
  },
  {
   "cell_type": "code",
   "execution_count": 9,
   "id": "b9bfe477",
   "metadata": {},
   "outputs": [],
   "source": [
    "# %pip install openai"
   ]
  },
  {
   "cell_type": "markdown",
   "id": "5a96af81",
   "metadata": {},
   "source": [
    "opneai 모듈: api_key= <- 키값.\n",
    " - 혹은 환경변수 OPENAI_API_KEY"
   ]
  },
  {
   "cell_type": "code",
   "execution_count": 10,
   "id": "40972d87",
   "metadata": {},
   "outputs": [],
   "source": [
    "from openai import OpenAI"
   ]
  },
  {
   "cell_type": "code",
   "execution_count": 11,
   "id": "cdd39c29",
   "metadata": {},
   "outputs": [],
   "source": [
    "client = OpenAI(\n",
    "    api_key = os.getenv(\"OPENAI_API_KEY\")  # billing 안되키는 에러발생!\n",
    ")"
   ]
  },
  {
   "cell_type": "code",
   "execution_count": 15,
   "id": "57968a8f",
   "metadata": {},
   "outputs": [],
   "source": [
    "completion = client.chat.completions.create(\n",
    "    model=\"gpt-4o-mini\",\n",
    "    store=True,\n",
    "    messages=[\n",
    "        {\n",
    "            \"role\": \"user\",\n",
    "            \"content\" : \"인공지능으로 완벽한 IT 시스템 보안을 해줘!\"\n",
    "        }\n",
    "    ]\n",
    ")"
   ]
  },
  {
   "cell_type": "code",
   "execution_count": 13,
   "id": "94d37216",
   "metadata": {},
   "outputs": [
    {
     "data": {
      "text/plain": [
       "ChatCompletion(id='chatcmpl-Bhp2qydRSDVf8DerZ3ivttEIAe6bZ', choices=[Choice(finish_reason='stop', index=0, logprobs=None, message=ChatCompletionMessage(content='안녕하세요! 무엇을 도와드릴까요?', refusal=None, role='assistant', annotations=[], audio=None, function_call=None, tool_calls=None))], created=1749784020, model='gpt-4o-mini-2024-07-18', object='chat.completion', service_tier='default', system_fingerprint='fp_34a54ae93c', usage=CompletionUsage(completion_tokens=11, prompt_tokens=16, total_tokens=27, completion_tokens_details=CompletionTokensDetails(accepted_prediction_tokens=0, audio_tokens=0, reasoning_tokens=0, rejected_prediction_tokens=0), prompt_tokens_details=PromptTokensDetails(audio_tokens=0, cached_tokens=0)))"
      ]
     },
     "execution_count": 13,
     "metadata": {},
     "output_type": "execute_result"
    }
   ],
   "source": [
    "completion"
   ]
  },
  {
   "cell_type": "code",
   "execution_count": 16,
   "id": "44c4b6c3",
   "metadata": {},
   "outputs": [
    {
     "data": {
      "text/plain": [
       "ChatCompletionMessage(content='완벽한 IT 시스템 보안을 구현하는 것은 매우 도전적인 작업이지만, 인공지능을 활용하면 보안 수준을 크게 향상시킬 수 있습니다. 다음은 인공지능을 이용하여 IT 시스템 보안을 강화하는 몇 가지 방법입니다:\\n\\n1. **위협 탐지 시스템**: 인공지능을 통해 비정상적인 패턴을 실시간으로 분석하고, 이상 행동을 탐지하여 잠재적인 위협을 조기에 경고할 수 있습니다. 머신러닝 모델을 훈련시켜 정상적인 트래픽 패턴을 학습시키고, 그에 대한 이상 탐지를 수행하도록 할 수 있습니다.\\n\\n2. **자동화된 보안 응답**: 공격이 감지되면, 인공지능 시스템이 자동으로 특정 동작을 수행할 수 있습니다. 예를 들어, 의심스러운 IP 주소를 차단하거나, 피해를 최소화하기 위해 시스템을 격리하는 등의 조치를 자동으로 취할 수 있습니다.\\n\\n3. **피싱 탐지**: 인공지능 알고리즘을 사용하여 이메일이나 웹사이트에서 피싱 시도를 탐지할 수 있습니다. 자연어 처리를 활용해 의심스러운 텍스트를 분석하고, 웹사이트의 신뢰성을 평가하는 데 도움을 줄 수 있습니다.\\n\\n4. **로그 분석**: 대량의 로그 데이터를 실시간으로 분석하여 보안 사고를 조기에 탐지할 수 있습니다. AI는 로그 데이터를 분석하여 비정상적인 패턴이나 반복적인 문제를 식별할 수 있습니다.\\n\\n5. **사용자 행동 분석 (UBA)**: 사용자의 행동을 분석하여 평소의 행동 패턴과 다를 경우 경고를 발생시킬 수 있습니다. 이는 내부자의 위협이나 계정 탈취 등을 탐지하는 데 유용합니다.\\n\\n6. **취약점 관리**: 인공지능을 활용하여 시스템의 취약점을 자동으로 스캔하고, 발견된 취약점에 대한 우선 순위를 매길 수 있습니다. 이를 통해 가장 심각한 위협에 먼저 대응할 수 있습니다.\\n\\n7. **사이버 공격 예측**: 머신러닝 기술을 활용하여 과거의 공격 데이터를 분석함으로써 미래의 공격을 예측하고 예방 조치를 강구할 수 있습니다.\\n\\n이러한 방법들을 종합하여 인공지능 기반의 보안 시스템을 구축하면 IT 시스템의 보안을 한층 강화할 수 있습니다. 그러나 완벽한 보안 시스템은 존재하지 않으므로, 지속적인 모니터링과 업데이트, 교육이 필요합니다.', refusal=None, role='assistant', annotations=[], audio=None, function_call=None, tool_calls=None)"
      ]
     },
     "execution_count": 16,
     "metadata": {},
     "output_type": "execute_result"
    }
   ],
   "source": [
    "completion.choices[0].message"
   ]
  },
  {
   "cell_type": "code",
   "execution_count": 18,
   "id": "fdfd79f3",
   "metadata": {},
   "outputs": [
    {
     "name": "stdout",
     "output_type": "stream",
     "text": [
      "완벽한 IT 시스템 보안을 구현하는 것은 매우 도전적인 작업이지만, 인공지능을 활용하면 보안 수준을 크게 향상시킬 수 있습니다. 다음은 인공지능을 이용하여 IT 시스템 보안을 강화하는 몇 가지 방법입니다:\n",
      "\n",
      "1. **위협 탐지 시스템**: 인공지능을 통해 비정상적인 패턴을 실시간으로 분석하고, 이상 행동을 탐지하여 잠재적인 위협을 조기에 경고할 수 있습니다. 머신러닝 모델을 훈련시켜 정상적인 트래픽 패턴을 학습시키고, 그에 대한 이상 탐지를 수행하도록 할 수 있습니다.\n",
      "\n",
      "2. **자동화된 보안 응답**: 공격이 감지되면, 인공지능 시스템이 자동으로 특정 동작을 수행할 수 있습니다. 예를 들어, 의심스러운 IP 주소를 차단하거나, 피해를 최소화하기 위해 시스템을 격리하는 등의 조치를 자동으로 취할 수 있습니다.\n",
      "\n",
      "3. **피싱 탐지**: 인공지능 알고리즘을 사용하여 이메일이나 웹사이트에서 피싱 시도를 탐지할 수 있습니다. 자연어 처리를 활용해 의심스러운 텍스트를 분석하고, 웹사이트의 신뢰성을 평가하는 데 도움을 줄 수 있습니다.\n",
      "\n",
      "4. **로그 분석**: 대량의 로그 데이터를 실시간으로 분석하여 보안 사고를 조기에 탐지할 수 있습니다. AI는 로그 데이터를 분석하여 비정상적인 패턴이나 반복적인 문제를 식별할 수 있습니다.\n",
      "\n",
      "5. **사용자 행동 분석 (UBA)**: 사용자의 행동을 분석하여 평소의 행동 패턴과 다를 경우 경고를 발생시킬 수 있습니다. 이는 내부자의 위협이나 계정 탈취 등을 탐지하는 데 유용합니다.\n",
      "\n",
      "6. **취약점 관리**: 인공지능을 활용하여 시스템의 취약점을 자동으로 스캔하고, 발견된 취약점에 대한 우선 순위를 매길 수 있습니다. 이를 통해 가장 심각한 위협에 먼저 대응할 수 있습니다.\n",
      "\n",
      "7. **사이버 공격 예측**: 머신러닝 기술을 활용하여 과거의 공격 데이터를 분석함으로써 미래의 공격을 예측하고 예방 조치를 강구할 수 있습니다.\n",
      "\n",
      "이러한 방법들을 종합하여 인공지능 기반의 보안 시스템을 구축하면 IT 시스템의 보안을 한층 강화할 수 있습니다. 그러나 완벽한 보안 시스템은 존재하지 않으므로, 지속적인 모니터링과 업데이트, 교육이 필요합니다.\n"
     ]
    }
   ],
   "source": [
    "print(completion.choices[0].message.content)"
   ]
  },
  {
   "cell_type": "markdown",
   "id": "f882f3f3",
   "metadata": {},
   "source": [
    "# LangChain 콤포넌트\n",
    "\n",
    "- Prompt\n",
    "- ChatOpenAI : openai 의 인터페이스\n",
    "- Runnable \n",
    "- OutputParser : String, Json, Db..."
   ]
  },
  {
   "cell_type": "markdown",
   "id": "ea878896",
   "metadata": {},
   "source": [
    "### 1. Prompt"
   ]
  },
  {
   "cell_type": "code",
   "execution_count": 19,
   "id": "3bfa6639",
   "metadata": {},
   "outputs": [],
   "source": [
    "from langchain_core.prompts import PromptTemplate"
   ]
  },
  {
   "cell_type": "code",
   "execution_count": 21,
   "id": "98c7f93a",
   "metadata": {},
   "outputs": [],
   "source": [
    "template = \"어떤 회사에서 이 {product}를 잘 만들고 있나요?\"\n",
    "prompt = PromptTemplate.from_template(template)"
   ]
  },
  {
   "cell_type": "code",
   "execution_count": 22,
   "id": "f9583586",
   "metadata": {},
   "outputs": [
    {
     "data": {
      "text/plain": [
       "PromptTemplate(input_variables=['product'], input_types={}, partial_variables={}, template='어떤 회사에서 이 {product}를 잘 만들고 있나요?')"
      ]
     },
     "execution_count": 22,
     "metadata": {},
     "output_type": "execute_result"
    }
   ],
   "source": [
    "prompt"
   ]
  },
  {
   "cell_type": "code",
   "execution_count": 24,
   "id": "95a9d316",
   "metadata": {},
   "outputs": [
    {
     "data": {
      "text/plain": [
       "'어떤 회사에서 이 스포츠화를 잘 만들고 있나요?'"
      ]
     },
     "execution_count": 24,
     "metadata": {},
     "output_type": "execute_result"
    }
   ],
   "source": [
    "prompt.format(product=\"스포츠화\")"
   ]
  },
  {
   "cell_type": "markdown",
   "id": "367784d1",
   "metadata": {},
   "source": [
    "### 2. ChatOpenAI"
   ]
  },
  {
   "cell_type": "code",
   "execution_count": 25,
   "id": "de4fb037",
   "metadata": {},
   "outputs": [],
   "source": [
    "from langchain_openai import ChatOpenAI"
   ]
  },
  {
   "cell_type": "code",
   "execution_count": 26,
   "id": "f6569ae9",
   "metadata": {},
   "outputs": [],
   "source": [
    "llm = ChatOpenAI(model=\"gpt-4o-mini\", temperature=0)"
   ]
  },
  {
   "cell_type": "code",
   "execution_count": 28,
   "id": "47c1fd8e",
   "metadata": {},
   "outputs": [
    {
     "data": {
      "text/plain": [
       "AIMessage(content='저는 인간이 아니라 인공지능 언어 모델입니다. 질문이나 도움이 필요하시면 언제든지 말씀해 주세요!', additional_kwargs={'refusal': None}, response_metadata={'token_usage': {'completion_tokens': 26, 'prompt_tokens': 18, 'total_tokens': 44, 'completion_tokens_details': {'accepted_prediction_tokens': 0, 'audio_tokens': 0, 'reasoning_tokens': 0, 'rejected_prediction_tokens': 0}, 'prompt_tokens_details': {'audio_tokens': 0, 'cached_tokens': 0}}, 'model_name': 'gpt-4o-mini-2024-07-18', 'system_fingerprint': 'fp_34a54ae93c', 'id': 'chatcmpl-BhpG4Hn3MLKtCSii2FBTXBLjNkBO0', 'service_tier': 'default', 'finish_reason': 'stop', 'logprobs': None}, id='run--845b5a3e-8601-444d-9933-eba108333ee9-0', usage_metadata={'input_tokens': 18, 'output_tokens': 26, 'total_tokens': 44, 'input_token_details': {'audio': 0, 'cache_read': 0}, 'output_token_details': {'audio': 0, 'reasoning': 0}})"
      ]
     },
     "execution_count": 28,
     "metadata": {},
     "output_type": "execute_result"
    }
   ],
   "source": [
    "# 질문 던져!!!\n",
    "response = llm.invoke((\"robot\", \"너는 인간이야?\"))\n",
    "response"
   ]
  },
  {
   "cell_type": "markdown",
   "id": "935d6807",
   "metadata": {},
   "source": [
    "### 3. Runnable\n",
    "\n",
    "- Pipeline : (Prompt | LLM | OutputParser )"
   ]
  },
  {
   "cell_type": "markdown",
   "id": "c8277773",
   "metadata": {},
   "source": [
    "### 4. OutputParser\n",
    "\n",
    "StrOutputParser"
   ]
  },
  {
   "cell_type": "code",
   "execution_count": 34,
   "id": "ae3e3ad9",
   "metadata": {},
   "outputs": [],
   "source": [
    "from langchain_core.output_parsers import StrOutputParser, JsonOutputParser"
   ]
  },
  {
   "cell_type": "code",
   "execution_count": 33,
   "id": "9f29330a",
   "metadata": {},
   "outputs": [
    {
     "data": {
      "text/plain": [
       "'저는 인간이 아니라 인공지능 언어 모델입니다. 질문이나 도움이 필요하시면 언제든지 말씀해 주세요!'"
      ]
     },
     "execution_count": 33,
     "metadata": {},
     "output_type": "execute_result"
    }
   ],
   "source": [
    "parser = StrOutputParser()\n",
    "result_txt = parser.invoke(response)\n",
    "result_txt"
   ]
  },
  {
   "cell_type": "markdown",
   "id": "cba0218e",
   "metadata": {},
   "source": [
    "### 5. LCEL (LangChain Express Language)\n",
    "\n",
    "여러 Runnable 객체를 pipe로 연결!!!"
   ]
  },
  {
   "cell_type": "code",
   "execution_count": 37,
   "id": "8fc81531",
   "metadata": {},
   "outputs": [],
   "source": [
    "chain = prompt | llm | parser # PromptTemplate | ChatOpenAI | StrOutputParser"
   ]
  },
  {
   "cell_type": "code",
   "execution_count": 38,
   "id": "5ec4aaf8",
   "metadata": {},
   "outputs": [
    {
     "data": {
      "text/plain": [
       "PromptTemplate(input_variables=['product'], input_types={}, partial_variables={}, template='어떤 회사에서 이 {product}를 잘 만들고 있나요?')"
      ]
     },
     "execution_count": 38,
     "metadata": {},
     "output_type": "execute_result"
    }
   ],
   "source": [
    "prompt"
   ]
  },
  {
   "cell_type": "code",
   "execution_count": null,
   "id": "29427ebb",
   "metadata": {},
   "outputs": [
    {
     "data": {
      "text/plain": [
       "'스포츠화 분야에서 잘 알려진 여러 회사가 있습니다. 다음은 그 중 일부입니다:\\n\\n1. **나이키 (Nike)** - 혁신적인 디자인과 기술로 유명하며, 다양한 스포츠에 맞춘 제품을 제공합니다.\\n2. **아디다스 (Adidas)** - 편안함과 스타일을 겸비한 스포츠화를 제작하며, 특히 축구화와 러닝화에서 강점을 보입니다.\\n3. **푸마 (Puma)** - 패셔너블한 디자인과 성능을 갖춘 스포츠화를 제공합니다.\\n4. **뉴발란스 (New Balance)** - 편안한 착용감과 기능성을 강조하며, 러닝화에서 인기가 높습니다.\\n5. **언더아머 (Under Armour)** - 기능성과 스타일을 모두 갖춘 스포츠화를 제작합니다.\\n6. **리복 (Reebok)** - 다양한 운동에 적합한 스포츠화를 제공하며, 특히 피트니스와 크로스핏에 강점을 보입니다.\\n\\n각 브랜드마다 특색이 있으니, 본인의 필요와 취향에 맞는 브랜드를 선택하는 것이 좋습니다.'"
      ]
     },
     "execution_count": 39,
     "metadata": {},
     "output_type": "execute_result"
    }
   ],
   "source": [
    "result_txt = chain.invoke({\"product\" : \"스포츠화\"})\n",
    "result_txt"
   ]
  },
  {
   "cell_type": "code",
   "execution_count": 40,
   "id": "cb61b99c",
   "metadata": {},
   "outputs": [
    {
     "name": "stdout",
     "output_type": "stream",
     "text": [
      "스포츠화 분야에서 잘 알려진 여러 회사가 있습니다. 다음은 그 중 일부입니다:\n",
      "\n",
      "1. **나이키 (Nike)** - 혁신적인 디자인과 기술로 유명하며, 다양한 스포츠에 맞춘 제품을 제공합니다.\n",
      "2. **아디다스 (Adidas)** - 편안함과 스타일을 겸비한 스포츠화를 제작하며, 특히 축구화와 러닝화에서 강점을 보입니다.\n",
      "3. **푸마 (Puma)** - 패셔너블한 디자인과 성능을 갖춘 스포츠화를 제공합니다.\n",
      "4. **뉴발란스 (New Balance)** - 편안한 착용감과 기능성을 강조하며, 러닝화에서 인기가 높습니다.\n",
      "5. **언더아머 (Under Armour)** - 기능성과 스타일을 모두 갖춘 스포츠화를 제작합니다.\n",
      "6. **리복 (Reebok)** - 다양한 운동에 적합한 스포츠화를 제공하며, 특히 피트니스와 크로스핏에 강점을 보입니다.\n",
      "\n",
      "각 브랜드마다 특색이 있으니, 본인의 필요와 취향에 맞는 브랜드를 선택하는 것이 좋습니다.\n"
     ]
    }
   ],
   "source": [
    "print(result_txt)"
   ]
  },
  {
   "cell_type": "markdown",
   "id": "647a8c5f",
   "metadata": {},
   "source": [
    "# 토큰 사용량 추적."
   ]
  },
  {
   "cell_type": "markdown",
   "id": "bf57f544",
   "metadata": {},
   "source": [
    "### 1. response_metadata"
   ]
  },
  {
   "cell_type": "code",
   "execution_count": 41,
   "id": "204cb701",
   "metadata": {},
   "outputs": [
    {
     "name": "stdout",
     "output_type": "stream",
     "text": [
      "{'input_tokens': 18, 'output_tokens': 26, 'total_tokens': 44, 'input_token_details': {'audio': 0, 'cache_read': 0}, 'output_token_details': {'audio': 0, 'reasoning': 0}}\n"
     ]
    }
   ],
   "source": [
    "print(response.usage_metadata)"
   ]
  },
  {
   "cell_type": "markdown",
   "id": "3edfdc3f",
   "metadata": {},
   "source": [
    "### 2. get_openai_callback()"
   ]
  },
  {
   "cell_type": "code",
   "execution_count": 42,
   "id": "46e2e5cd",
   "metadata": {},
   "outputs": [],
   "source": [
    "from langchain_community.callbacks import get_openai_callback"
   ]
  },
  {
   "cell_type": "code",
   "execution_count": 43,
   "id": "e6af94c2",
   "metadata": {},
   "outputs": [
    {
     "name": "stdout",
     "output_type": "stream",
     "text": [
      "죄송하지만, 실시간 날씨 정보를 제공할 수는 없습니다. 가산동의 날씨를 확인하시려면 기상청\n",
      "2025 월드컵에 대한 예측은 어렵습니다. 스포츠는 예측할 수 없는 요소가 많기 때문에 어\n"
     ]
    }
   ],
   "source": [
    "with get_openai_callback() as cb:\n",
    "    # 1\n",
    "    res1 = llm.invoke(\"오늘 가산동의 날씨는 어떤가요?\")\n",
    "    print(res1.content[:50])\n",
    "\n",
    "    res2 = llm.invoke(\"누가 2025 월드컵에서 승리할까요\")\n",
    "    print(res2.content[:50])\n",
    "\n"
   ]
  },
  {
   "cell_type": "code",
   "execution_count": 44,
   "id": "c2cdd4cd",
   "metadata": {},
   "outputs": [
    {
     "data": {
      "text/plain": [
       "8.924999999999999e-05"
      ]
     },
     "execution_count": 44,
     "metadata": {},
     "output_type": "execute_result"
    }
   ],
   "source": [
    "cb.total_cost"
   ]
  },
  {
   "cell_type": "code",
   "execution_count": 45,
   "id": "443cdb1f",
   "metadata": {},
   "outputs": [
    {
     "data": {
      "text/plain": [
       "(178, 39, 139)"
      ]
     },
     "execution_count": 45,
     "metadata": {},
     "output_type": "execute_result"
    }
   ],
   "source": [
    "cb.total_tokens, cb.prompt_tokens, cb.completion_tokens"
   ]
  },
  {
   "cell_type": "markdown",
   "id": "34f8dca3",
   "metadata": {},
   "source": [
    "# Langchain 이용 Cache 기법"
   ]
  }
 ],
 "metadata": {
  "kernelspec": {
   "display_name": "Langchain",
   "language": "python",
   "name": "langchain"
  },
  "language_info": {
   "codemirror_mode": {
    "name": "ipython",
    "version": 3
   },
   "file_extension": ".py",
   "mimetype": "text/x-python",
   "name": "python",
   "nbconvert_exporter": "python",
   "pygments_lexer": "ipython3",
   "version": "3.12.11"
  }
 },
 "nbformat": 4,
 "nbformat_minor": 5
}
